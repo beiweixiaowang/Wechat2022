{
 "cells": [
  {
   "cell_type": "code",
   "execution_count": 13,
   "outputs": [],
   "source": [
    "import warnings\n",
    "warnings.simplefilter('ignore')\n",
    "import json\n",
    "import pandas as pd\n",
    "import numpy as np\n",
    "from io import BytesIO\n",
    "from zipfile import ZipFile\n",
    "import gc\n",
    "from tqdm import tqdm"
   ],
   "metadata": {
    "collapsed": false,
    "pycharm": {
     "name": "#%%\n"
    }
   }
  },
  {
   "cell_type": "code",
   "execution_count": 8,
   "outputs": [],
   "source": [
    "train_text_path = './data/annotations/labeled.json'\n",
    "test_text_path = './data/annotations/test_a.json'\n",
    "unlabeled_text_path = './data/annotations/unlabeled.json'\n",
    "save_path = './temp_data/'"
   ],
   "metadata": {
    "collapsed": false,
    "pycharm": {
     "name": "#%%\n"
    }
   }
  },
  {
   "cell_type": "code",
   "execution_count": 20,
   "outputs": [],
   "source": [
    "# 拼接title_ocr_asr\n",
    "def load_text_data(file_path, file_type, save_path):\n",
    "    with open(file_path, 'r', encoding='utf-8') as f:\n",
    "        text = json.load(f)\n",
    "    df_text = pd.DataFrame(text)\n",
    "    all_ocr_text = []\n",
    "    all_time = []\n",
    "    for ocr in tqdm(df_text['ocr']):\n",
    "        all_ocr_text.append(', '.join([i['text'] for i in ocr]))\n",
    "        all_time.append([i['time'] for i in ocr])\n",
    "    df_text['ocr_text'] = all_ocr_text\n",
    "    df_text['ocr_time'] = all_time\n",
    "    df_text['text'] =  df_text['title'].astype(str) + \"[SEP]\" + \\\n",
    "                       df_text['asr'].str[:60].astype(str) + df_text['asr'].str[60:].astype(str) + \\\n",
    "                       df_text['ocr_text'].str[:60].astype(str) + df_text['ocr_text'].str[60:].astype(str)\n",
    "    if file_type == 'train':\n",
    "        df_text = df_text[['text', 'category_id']]\n",
    "        df_text.columns = ['text', 'label']\n",
    "    elif file_type == 'unlabeled' or file_type == 'test':\n",
    "        df_text = df_text[['text']]\n",
    "    df_text.to_pickle(save_path + file_type + '_text.pkl')\n",
    "    print(len(df_text))\n",
    "    gc.collect()"
   ],
   "metadata": {
    "collapsed": false,
    "pycharm": {
     "name": "#%%\n"
    }
   }
  },
  {
   "cell_type": "code",
   "execution_count": 21,
   "outputs": [
    {
     "name": "stderr",
     "output_type": "stream",
     "text": [
      "100%|██████████| 100000/100000 [00:00<00:00, 581836.75it/s]\n"
     ]
    },
    {
     "name": "stdout",
     "output_type": "stream",
     "text": [
      "100000\n"
     ]
    },
    {
     "name": "stderr",
     "output_type": "stream",
     "text": [
      "100%|██████████| 25000/25000 [00:00<00:00, 799969.48it/s]\n"
     ]
    },
    {
     "name": "stdout",
     "output_type": "stream",
     "text": [
      "25000\n"
     ]
    },
    {
     "name": "stderr",
     "output_type": "stream",
     "text": [
      "100%|██████████| 1000000/1000000 [00:03<00:00, 333216.60it/s]\n"
     ]
    },
    {
     "name": "stdout",
     "output_type": "stream",
     "text": [
      "1000000\n"
     ]
    }
   ],
   "source": [
    "load_text_data(train_text_path, file_type='train', save_path=save_path)\n",
    "load_text_data(test_text_path, file_type='test', save_path=save_path)\n",
    "load_text_data(unlabeled_text_path, file_type='unlabeled', save_path=save_path)"
   ],
   "metadata": {
    "collapsed": false,
    "pycharm": {
     "name": "#%%\n"
    }
   }
  },
  {
   "cell_type": "code",
   "execution_count": 17,
   "outputs": [
    {
     "data": {
      "text/plain": "0         166\n1          81\n2         273\n3         727\n4         125\n         ... \n999995    534\n999996     30\n999997    235\n999998     59\n999999    351\nName: text, Length: 1000000, dtype: int64"
     },
     "execution_count": 17,
     "metadata": {},
     "output_type": "execute_result"
    }
   ],
   "source": [
    "df = pd.read_pickle('./temp_data/unlabeled_text.pkl')"
   ],
   "metadata": {
    "collapsed": false,
    "pycharm": {
     "name": "#%%\n"
    }
   }
  },
  {
   "cell_type": "markdown",
   "source": [],
   "metadata": {
    "collapsed": false,
    "pycharm": {
     "name": "#%% md\n"
    }
   }
  },
  {
   "cell_type": "markdown",
   "source": [],
   "metadata": {
    "collapsed": false,
    "pycharm": {
     "name": "#%% md\n"
    }
   }
  }
 ],
 "metadata": {
  "kernelspec": {
   "display_name": "Python 3",
   "language": "python",
   "name": "python3"
  },
  "language_info": {
   "codemirror_mode": {
    "name": "ipython",
    "version": 2
   },
   "file_extension": ".py",
   "mimetype": "text/x-python",
   "name": "python",
   "nbconvert_exporter": "python",
   "pygments_lexer": "ipython2",
   "version": "2.7.6"
  }
 },
 "nbformat": 4,
 "nbformat_minor": 0
}